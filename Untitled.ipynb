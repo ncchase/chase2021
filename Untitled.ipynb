{
 "cells": [
  {
   "cell_type": "code",
   "execution_count": 6,
   "id": "complex-beijing",
   "metadata": {},
   "outputs": [
    {
     "name": "stdout",
     "output_type": "stream",
     "text": [
      "Requirement already satisfied: gspread in g:\\programming\\chase2021\\venv\\lib\\site-packages (3.6.0)\n",
      "Requirement already satisfied: google-auth-oauthlib>=0.4.1 in g:\\programming\\chase2021\\venv\\lib\\site-packages (from gspread) (0.4.2)\n",
      "Requirement already satisfied: google-auth>=1.12.0 in g:\\programming\\chase2021\\venv\\lib\\site-packages (from gspread) (1.24.0)\n",
      "Requirement already satisfied: requests>=2.2.1 in g:\\programming\\chase2021\\venv\\lib\\site-packages (from gspread) (2.25.1)\n",
      "Requirement already satisfied: requests-oauthlib>=0.7.0 in g:\\programming\\chase2021\\venv\\lib\\site-packages (from google-auth-oauthlib>=0.4.1->gspread) (1.3.0)\n",
      "Requirement already satisfied: setuptools>=40.3.0 in g:\\programming\\chase2021\\venv\\lib\\site-packages (from google-auth>=1.12.0->gspread) (49.2.1)\n",
      "Requirement already satisfied: pyasn1-modules>=0.2.1 in g:\\programming\\chase2021\\venv\\lib\\site-packages (from google-auth>=1.12.0->gspread) (0.2.8)\n",
      "Requirement already satisfied: six>=1.9.0 in g:\\programming\\chase2021\\venv\\lib\\site-packages (from google-auth>=1.12.0->gspread) (1.15.0)\n",
      "Requirement already satisfied: cachetools<5.0,>=2.0.0 in g:\\programming\\chase2021\\venv\\lib\\site-packages (from google-auth>=1.12.0->gspread) (4.2.0)\n",
      "Requirement already satisfied: rsa<5,>=3.1.4; python_version >= \"3.6\" in g:\\programming\\chase2021\\venv\\lib\\site-packages (from google-auth>=1.12.0->gspread) (4.7)\n",
      "Requirement already satisfied: chardet<5,>=3.0.2 in g:\\programming\\chase2021\\venv\\lib\\site-packages (from requests>=2.2.1->gspread) (4.0.0)\n",
      "Requirement already satisfied: idna<3,>=2.5 in g:\\programming\\chase2021\\venv\\lib\\site-packages (from requests>=2.2.1->gspread) (2.10)\n",
      "Requirement already satisfied: certifi>=2017.4.17 in g:\\programming\\chase2021\\venv\\lib\\site-packages (from requests>=2.2.1->gspread) (2020.12.5)\n",
      "Requirement already satisfied: urllib3<1.27,>=1.21.1 in g:\\programming\\chase2021\\venv\\lib\\site-packages (from requests>=2.2.1->gspread) (1.26.2)\n",
      "Requirement already satisfied: oauthlib>=3.0.0 in g:\\programming\\chase2021\\venv\\lib\\site-packages (from requests-oauthlib>=0.7.0->google-auth-oauthlib>=0.4.1->gspread) (3.1.0)\n",
      "Requirement already satisfied: pyasn1<0.5.0,>=0.4.6 in g:\\programming\\chase2021\\venv\\lib\\site-packages (from pyasn1-modules>=0.2.1->google-auth>=1.12.0->gspread) (0.4.8)\n"
     ]
    },
    {
     "name": "stderr",
     "output_type": "stream",
     "text": [
      "WARNING: You are using pip version 20.2.3; however, version 20.3.3 is available.\n",
      "You should consider upgrading via the 'g:\\programming\\chase2021\\venv\\scripts\\python.exe -m pip install --upgrade pip' command.\n"
     ]
    }
   ],
   "source": [
    "import pandas as pd\n",
    "!pip install gspread"
   ]
  },
  {
   "cell_type": "code",
   "execution_count": 7,
   "id": "macro-blowing",
   "metadata": {},
   "outputs": [
    {
     "ename": "ModuleNotFoundError",
     "evalue": "No module named 'gspread'",
     "output_type": "error",
     "traceback": [
      "\u001b[1;31m---------------------------------------------------------------------------\u001b[0m",
      "\u001b[1;31mModuleNotFoundError\u001b[0m                       Traceback (most recent call last)",
      "\u001b[1;32m<ipython-input-7-54ef17da7c43>\u001b[0m in \u001b[0;36m<module>\u001b[1;34m\u001b[0m\n\u001b[1;32m----> 1\u001b[1;33m \u001b[1;32mimport\u001b[0m \u001b[0mgspread\u001b[0m\u001b[1;33m\u001b[0m\u001b[1;33m\u001b[0m\u001b[0m\n\u001b[0m\u001b[0;32m      2\u001b[0m \u001b[1;32mfrom\u001b[0m \u001b[0moauth2client\u001b[0m\u001b[1;33m.\u001b[0m\u001b[0mservice_account\u001b[0m \u001b[1;32mimport\u001b[0m \u001b[0mServiceAccountCredentials\u001b[0m\u001b[1;33m\u001b[0m\u001b[1;33m\u001b[0m\u001b[0m\n\u001b[0;32m      3\u001b[0m \u001b[1;32mimport\u001b[0m \u001b[0mpandas\u001b[0m \u001b[1;32mas\u001b[0m \u001b[0mpd\u001b[0m\u001b[1;33m\u001b[0m\u001b[1;33m\u001b[0m\u001b[0m\n\u001b[0;32m      4\u001b[0m \u001b[1;33m\u001b[0m\u001b[0m\n\u001b[0;32m      5\u001b[0m scope = [\"https://spreadsheets.google.com/feeds\", 'https://www.googleapis.com/auth/spreadsheets',\n",
      "\u001b[1;31mModuleNotFoundError\u001b[0m: No module named 'gspread'"
     ]
    }
   ],
   "source": [
    "import gspread\n",
    "from oauth2client.service_account import ServiceAccountCredentials\n",
    "import pandas as pd\n",
    "\n",
    "scope = [\"https://spreadsheets.google.com/feeds\", 'https://www.googleapis.com/auth/spreadsheets',\n",
    "         \"https://www.googleapis.com/auth/drive.file\", \"https://www.googleapis.com/auth/drive\"]\n",
    "\n",
    "gc = gspread.service_account(filename='client_secret.json')\n",
    "\n",
    "sh = gc.open_by_key(\"18-Zpykkx5VGWbcIkjQw0sJEKmLFKE_7Rcj-Ri00_xsk\")\n",
    "mut = sh.worksheet(\"MUT\")"
   ]
  },
  {
   "cell_type": "code",
   "execution_count": null,
   "id": "coordinate-catering",
   "metadata": {},
   "outputs": [],
   "source": []
  }
 ],
 "metadata": {
  "kernelspec": {
   "display_name": "Python 3",
   "language": "python",
   "name": "python3"
  },
  "language_info": {
   "codemirror_mode": {
    "name": "ipython",
    "version": 3
   },
   "file_extension": ".py",
   "mimetype": "text/x-python",
   "name": "python",
   "nbconvert_exporter": "python",
   "pygments_lexer": "ipython3",
   "version": "3.9.1"
  }
 },
 "nbformat": 4,
 "nbformat_minor": 5
}
